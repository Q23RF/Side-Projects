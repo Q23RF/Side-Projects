{
  "nbformat": 4,
  "nbformat_minor": 0,
  "metadata": {
    "colab": {
      "provenance": [],
      "authorship_tag": "ABX9TyM9lRKmL0xdxvbV6/zC/S6B",
      "include_colab_link": true
    },
    "kernelspec": {
      "name": "python3",
      "display_name": "Python 3"
    },
    "language_info": {
      "name": "python"
    }
  },
  "cells": [
    {
      "cell_type": "markdown",
      "metadata": {
        "id": "view-in-github",
        "colab_type": "text"
      },
      "source": [
        "<a href=\"https://colab.research.google.com/github/Q23RF/Side-Projects/blob/master/GetKeywordsFromYouTubeVideos.ipynb\" target=\"_parent\"><img src=\"https://colab.research.google.com/assets/colab-badge.svg\" alt=\"Open In Colab\"/></a>"
      ]
    },
    {
      "cell_type": "code",
      "source": [
        "from bs4 import BeautifulSoup\n",
        "from urllib.request import urlopen"
      ],
      "metadata": {
        "id": "bf6MBoojq2kO"
      },
      "execution_count": null,
      "outputs": []
    },
    {
      "cell_type": "code",
      "execution_count": null,
      "metadata": {
        "id": "L-ZIo4copzPU"
      },
      "outputs": [],
      "source": [
        "def GetKeywords(url):\n",
        "  html = urlopen(url).read().decode()\n",
        "  soupObj = BeautifulSoup(html, \"html.parser\")\n",
        "  keywords = str(soupObj.findAll(\"meta\")[5]).split('\"')[1]\n",
        "  return keywords"
      ]
    },
    {
      "cell_type": "code",
      "source": [
        "GetKeywords(\"https://www.youtube.com/watch?v=FRilMXZqNhA\")"
      ],
      "metadata": {
        "colab": {
          "base_uri": "https://localhost:8080/",
          "height": 53
        },
        "outputId": "2714bed2-2f9e-472d-f89a-91e3345bbcb4",
        "id": "DxDZH_bwXyPB"
      },
      "execution_count": null,
      "outputs": [
        {
          "output_type": "execute_result",
          "data": {
            "text/plain": [
              "'nct 127, 2 baddies, mv, full speed, nct, smtown, 엔시티, 엔시티 127, 질주, 뮤직비디오, 뮤비, 태일, 태용, 쟈니, 유타, 재현, 도영, 정우, 마크, 해찬, taeil, taeyong, johnny, yuta, jaehyun, doyoung, jungwoo, mark, haechan, 챌린지, 질주 챌린지, 127 챌린지, 댄스 챌린지, challenge, nct 127 challenge, 2 baddies challenge, neo seoul, neo seoul challenge, youtube shorts, shorts'"
            ],
            "application/vnd.google.colaboratory.intrinsic+json": {
              "type": "string"
            }
          },
          "metadata": {},
          "execution_count": 3
        }
      ]
    },
    {
      "cell_type": "code",
      "source": [
        "GetKeywords(\"https://www.youtube.com/watch?v=bagFQCTHXy8\")"
      ],
      "metadata": {
        "colab": {
          "base_uri": "https://localhost:8080/",
          "height": 53
        },
        "outputId": "9a8e25aa-3d19-4fe7-e268-746701970115",
        "id": "h07fv-LBY_Q9"
      },
      "execution_count": null,
      "outputs": [
        {
          "output_type": "execute_result",
          "data": {
            "text/plain": [
              "'NCT DREAM, 엔시티드림, 드림, 드림 컴백, Beatbox, 비트박스, 2집 리패키지 앨범, repackage album, 마크, 재민, 제노, 런쥔, 해찬, 지성, 천러, MARK, JAEMIN, JENO, RENJUN, HAECHAN, JISUNG, CHENLE, dreamsquad, 드림스쿼드, mv, music video, 뮤비, 뮤직비디오'"
            ],
            "application/vnd.google.colaboratory.intrinsic+json": {
              "type": "string"
            }
          },
          "metadata": {},
          "execution_count": 4
        }
      ]
    }
  ]
}